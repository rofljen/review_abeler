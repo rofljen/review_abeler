{
 "cells": [
  {
   "cell_type": "code",
   "execution_count": 1,
   "id": "05a7e092",
   "metadata": {},
   "outputs": [],
   "source": [
    "#imports\n",
    "from typing import Text, Tuple, List, Union, Iterable\n",
    "import numpy as np\n",
    "import re\n",
    "from sklearn.feature_extraction.text import TfidfVectorizer, CountVectorizer\n",
    "from sklearn.linear_model import LogisticRegression\n",
    "from scipy.sparse import csr_matrix, spmatrix\n",
    "import pandas as pd\n",
    "import os\n",
    "\n",
    "NDArray = Union[np.ndarray, spmatrix]"
   ]
  },
  {
   "cell_type": "code",
   "execution_count": 2,
   "id": "41ef2c04",
   "metadata": {},
   "outputs": [],
   "source": [
    "#define T2F class\n",
    "class TextToFeatures:\n",
    "    def __init__(self):\n",
    "        self.vectorizer = TfidfVectorizer(ngram_range=(1, 2))\n",
    "        self.index_map = None\n",
    "\n",
    "    def fit(self, training_texts: Iterable[Text]) -> None:\n",
    "        self.vectorizer.fit(training_texts)\n",
    "        self.index_map = {feature: idx for idx, feature in enumerate(self.vectorizer.get_feature_names_out())}\n",
    "\n",
    "    def index(self, feature: Text) -> Union[None, int]:\n",
    "        return self.index_map.get(feature)\n",
    "    \n",
    "    def transform(self, texts: Iterable[Text]) -> csr_matrix:\n",
    "        transformed_reviews = self.vectorizer.transform(texts)\n",
    "        return transformed_reviews"
   ]
  },
  {
   "cell_type": "code",
   "execution_count": 3,
   "id": "c2abb389",
   "metadata": {},
   "outputs": [],
   "source": [
    "#define T2L class\n",
    "class TextToLabels:\n",
    "    def __init__(self):\n",
    "        self.vectorizer = CountVectorizer()\n",
    "        self.model = LogisticRegression(max_iter=100000, solver='saga')\n",
    "\n",
    "    def fit(self, training_text: Iterable[Text], training_labels: Iterable[int]) -> None:\n",
    "        self.vectorizer.fit(training_text)\n",
    "        train_features = self.vectorizer.transform(training_text)\n",
    "        self.model.fit(train_features, training_labels)\n",
    "\n",
    "    def transform(self, test_text: Iterable[Text]) -> np.ndarray:\n",
    "        test_features = self.vectorizer.transform(test_text)\n",
    "        test_labels = self.model.predict(test_features)\n",
    "        return test_labels"
   ]
  },
  {
   "cell_type": "code",
   "execution_count": 4,
   "id": "8cbcff3c",
   "metadata": {},
   "outputs": [],
   "source": [
    "#read in data & pre-process\n",
    "def process_text(input_file_path: Text, output_file_path: Text, is_train_data: bool) -> List[Tuple[Text, Text, Text]]:\n",
    "    processed_data = []\n",
    "    with open(input_file_path, 'r') as file:\n",
    "        for line in file:\n",
    "            line = line.strip()\n",
    "            if not line:\n",
    "                continue\n",
    "            if is_train_data:\n",
    "                match = re.match(r'^(\\d+),(.*),(\\d)$', line)\n",
    "                if match:\n",
    "                    ID, Text, Label = match.groups()\n",
    "                    processed_data.append((ID, Text, Label))\n",
    "            else:\n",
    "                match = re.match(r'^(\\d+),(.*)$', line)\n",
    "                if match:\n",
    "                    ID, Text = match.groups()\n",
    "                    processed_data.append((ID, Text, \"\"))  # Test data initially doesn't have labels\n",
    "    if output_file_path:\n",
    "        with open(output_file_path, 'w+') as train_out:\n",
    "            train_out.write('\\n'.join([','.join(item) for item in processed_data]))\n",
    "    return processed_data"
   ]
  },
  {
   "cell_type": "code",
   "execution_count": 5,
   "id": "a92193e7",
   "metadata": {},
   "outputs": [
    {
     "name": "stdout",
     "output_type": "stream",
     "text": [
      "Length of processed_test_reviews: 17581\n",
      "Length of test_labels: 17581\n"
     ]
    }
   ],
   "source": [
    "def main():\n",
    "    train_data_input = '/home/rofljen/repos/ling-539-class-competition-code-rofljen-main/class-competition/files/Data/train.csv'\n",
    "    train_data_output = '/home/rofljen/repos/ling-539-class-competition-code-rofljen-main/class-competition/files/Data/train.txt'\n",
    "    test_data_input = '/home/rofljen/repos/ling-539-class-competition-code-rofljen-main/class-competition/files/Data/test.csv'\n",
    "    test_data_output = '/home/rofljen/repos/ling-539-class-competition-code-rofljen-main/class-competition/files/Data/test.txt'\n",
    "\n",
    "    # Process train data\n",
    "    processed_train_reviews = process_text(train_data_input, train_data_output, is_train_data=True)\n",
    "\n",
    "    # Process test data\n",
    "    processed_test_reviews = process_text(test_data_input, test_data_output, is_train_data=False)\n",
    "\n",
    "    # Extract text from processed reviews\n",
    "    train_texts = [review[1] for review in processed_train_reviews]\n",
    "    test_texts = [review[1] for review in processed_test_reviews]\n",
    "\n",
    "    # Initialize TextToFeatures and fit with training data\n",
    "    t2f = TextToFeatures()\n",
    "    t2f.fit(train_texts)\n",
    "\n",
    "    # Transform both train and test texts into feature matrices\n",
    "    train_feature_matrices = t2f.transform(train_texts)\n",
    "    test_feature_matrices = t2f.transform(test_texts)\n",
    "\n",
    "    # Initialize TextToLabels and fit with training data\n",
    "    t2l = TextToLabels()\n",
    "    train_labels = [int(review[2]) for review in processed_train_reviews]\n",
    "    t2l.fit(train_texts, train_labels)\n",
    "    \n",
    "    test_labels = t2l.transform(test_texts)\n",
    "\n",
    "    # Combine test data with predicted labels\n",
    "    labeled_test_data = []\n",
    "    for review, label in zip(processed_test_reviews, test_labels):\n",
    "        ID, text, _ = review  # Extract ID and text\n",
    "        labeled_test_data.append((ID, label))\n",
    "\n",
    "    # Save results to a DataFrame and CSV file\n",
    "    df = pd.DataFrame(labeled_test_data, columns=['ID', 'LABEL'])\n",
    "    directory = '/home/rofljen/repos/ling-539-class-competition-code-rofljen-main/class-competition/files'\n",
    "\n",
    "    if not os.path.exists(directory):\n",
    "        os.makedirs(directory)\n",
    "\n",
    "    df.to_csv(os.path.join(directory, 'results.csv'), index=False)\n",
    "\n",
    "    # Print lengths\n",
    "    print(\"Length of processed_test_reviews:\", len(processed_test_reviews))\n",
    "    print(\"Length of test_labels:\", len(test_labels))\n",
    "\n",
    "\n",
    "# Call the main function\n",
    "main()\n"
   ]
  },
  {
   "cell_type": "code",
   "execution_count": null,
   "id": "5d043b1a",
   "metadata": {},
   "outputs": [],
   "source": []
  }
 ],
 "metadata": {
  "kernelspec": {
   "display_name": "Python 3 (ipykernel)",
   "language": "python",
   "name": "python3"
  },
  "language_info": {
   "codemirror_mode": {
    "name": "ipython",
    "version": 3
   },
   "file_extension": ".py",
   "mimetype": "text/x-python",
   "name": "python",
   "nbconvert_exporter": "python",
   "pygments_lexer": "ipython3",
   "version": "3.10.12"
  }
 },
 "nbformat": 4,
 "nbformat_minor": 5
}
